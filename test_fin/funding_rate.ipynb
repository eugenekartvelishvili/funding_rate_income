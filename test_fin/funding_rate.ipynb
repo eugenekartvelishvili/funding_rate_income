{
 "cells": [
  {
   "cell_type": "markdown",
   "metadata": {},
   "source": [
    "## Импорт библиотек"
   ]
  },
  {
   "cell_type": "code",
   "execution_count": 138,
   "metadata": {},
   "outputs": [],
   "source": [
    "from binance.um_futures import UMFutures\n",
    "import matplotlib.pyplot as plt\n",
    "import pandas as pd\n",
    "import seaborn as sns\n",
    "\n",
    "# Создание клиента Binance\n",
    "client = UMFutures()\n",
    "\n",
    "# Символ контракта\n",
    "symbol = 'AUCTIONUSDT'\n",
    "\n",
    "# Размер позиции\n",
    "quantity = 1000.0"
   ]
  },
  {
   "cell_type": "markdown",
   "metadata": {},
   "source": [
    "## Получение данных"
   ]
  },
  {
   "cell_type": "markdown",
   "metadata": {},
   "source": [
    "### Предположение\n",
    "\n",
    "* Значения немного отличаются в отдельном датасете и в датасете со ставкой. \n",
    "* И плюс в отдельном датасете есть пропущенное значение. \n",
    "* Я предположу, что все-таки в данных со ставками наверное будут более точные маркировочные цены, потому что на их основе то и была посчитана ставка финансирования."
   ]
  },
  {
   "cell_type": "code",
   "execution_count": 139,
   "metadata": {},
   "outputs": [],
   "source": [
    "# Получаем данные о ставках финансирования и маркировочных ценах (mark price)\n",
    "funding_rates = client.funding_rate(symbol=symbol, limit=1000)"
   ]
  },
  {
   "cell_type": "code",
   "execution_count": 140,
   "metadata": {},
   "outputs": [],
   "source": [
    "# Создаем DataFrame для ставок финансирования и маркировочных цен\n",
    "fr_df = pd.DataFrame(funding_rates)"
   ]
  },
  {
   "cell_type": "code",
   "execution_count": 141,
   "metadata": {},
   "outputs": [
    {
     "data": {
      "text/html": [
       "<div>\n",
       "<style scoped>\n",
       "    .dataframe tbody tr th:only-of-type {\n",
       "        vertical-align: middle;\n",
       "    }\n",
       "\n",
       "    .dataframe tbody tr th {\n",
       "        vertical-align: top;\n",
       "    }\n",
       "\n",
       "    .dataframe thead th {\n",
       "        text-align: right;\n",
       "    }\n",
       "</style>\n",
       "<table border=\"1\" class=\"dataframe\">\n",
       "  <thead>\n",
       "    <tr style=\"text-align: right;\">\n",
       "      <th></th>\n",
       "      <th>symbol</th>\n",
       "      <th>fundingTime</th>\n",
       "      <th>fundingRate</th>\n",
       "      <th>markPrice</th>\n",
       "    </tr>\n",
       "  </thead>\n",
       "  <tbody>\n",
       "    <tr>\n",
       "      <th>0</th>\n",
       "      <td>AUCTIONUSDT</td>\n",
       "      <td>1702656000000</td>\n",
       "      <td>-0.00388436</td>\n",
       "      <td>26.52314175</td>\n",
       "    </tr>\n",
       "    <tr>\n",
       "      <th>1</th>\n",
       "      <td>AUCTIONUSDT</td>\n",
       "      <td>1702670400001</td>\n",
       "      <td>-0.00185824</td>\n",
       "      <td>29.36359275</td>\n",
       "    </tr>\n",
       "    <tr>\n",
       "      <th>2</th>\n",
       "      <td>AUCTIONUSDT</td>\n",
       "      <td>1702684800000</td>\n",
       "      <td>-0.00327553</td>\n",
       "      <td>28.19291705</td>\n",
       "    </tr>\n",
       "    <tr>\n",
       "      <th>3</th>\n",
       "      <td>AUCTIONUSDT</td>\n",
       "      <td>1702699200000</td>\n",
       "      <td>-0.00400401</td>\n",
       "      <td>32.05000000</td>\n",
       "    </tr>\n",
       "    <tr>\n",
       "      <th>4</th>\n",
       "      <td>AUCTIONUSDT</td>\n",
       "      <td>1702713600000</td>\n",
       "      <td>-0.00213423</td>\n",
       "      <td>29.23385529</td>\n",
       "    </tr>\n",
       "    <tr>\n",
       "      <th>...</th>\n",
       "      <td>...</td>\n",
       "      <td>...</td>\n",
       "      <td>...</td>\n",
       "      <td>...</td>\n",
       "    </tr>\n",
       "    <tr>\n",
       "      <th>733</th>\n",
       "      <td>AUCTIONUSDT</td>\n",
       "      <td>1713211200000</td>\n",
       "      <td>0.00005000</td>\n",
       "      <td>15.62723501</td>\n",
       "    </tr>\n",
       "    <tr>\n",
       "      <th>734</th>\n",
       "      <td>AUCTIONUSDT</td>\n",
       "      <td>1713225600001</td>\n",
       "      <td>0.00005000</td>\n",
       "      <td>15.66000000</td>\n",
       "    </tr>\n",
       "    <tr>\n",
       "      <th>735</th>\n",
       "      <td>AUCTIONUSDT</td>\n",
       "      <td>1713240000000</td>\n",
       "      <td>0.00005000</td>\n",
       "      <td>15.42665648</td>\n",
       "    </tr>\n",
       "    <tr>\n",
       "      <th>736</th>\n",
       "      <td>AUCTIONUSDT</td>\n",
       "      <td>1713254400000</td>\n",
       "      <td>0.00005000</td>\n",
       "      <td>15.75171078</td>\n",
       "    </tr>\n",
       "    <tr>\n",
       "      <th>737</th>\n",
       "      <td>AUCTIONUSDT</td>\n",
       "      <td>1713268800000</td>\n",
       "      <td>0.00005000</td>\n",
       "      <td>15.85800000</td>\n",
       "    </tr>\n",
       "  </tbody>\n",
       "</table>\n",
       "<p>738 rows × 4 columns</p>\n",
       "</div>"
      ],
      "text/plain": [
       "          symbol    fundingTime  fundingRate    markPrice\n",
       "0    AUCTIONUSDT  1702656000000  -0.00388436  26.52314175\n",
       "1    AUCTIONUSDT  1702670400001  -0.00185824  29.36359275\n",
       "2    AUCTIONUSDT  1702684800000  -0.00327553  28.19291705\n",
       "3    AUCTIONUSDT  1702699200000  -0.00400401  32.05000000\n",
       "4    AUCTIONUSDT  1702713600000  -0.00213423  29.23385529\n",
       "..           ...            ...          ...          ...\n",
       "733  AUCTIONUSDT  1713211200000   0.00005000  15.62723501\n",
       "734  AUCTIONUSDT  1713225600001   0.00005000  15.66000000\n",
       "735  AUCTIONUSDT  1713240000000   0.00005000  15.42665648\n",
       "736  AUCTIONUSDT  1713254400000   0.00005000  15.75171078\n",
       "737  AUCTIONUSDT  1713268800000   0.00005000  15.85800000\n",
       "\n",
       "[738 rows x 4 columns]"
      ]
     },
     "execution_count": 141,
     "metadata": {},
     "output_type": "execute_result"
    }
   ],
   "source": [
    "fr_df"
   ]
  },
  {
   "cell_type": "markdown",
   "metadata": {},
   "source": [
    "# Обработка данных"
   ]
  },
  {
   "cell_type": "code",
   "execution_count": 142,
   "metadata": {},
   "outputs": [],
   "source": [
    "# Приводим типы данных\n",
    "fr_df['fundingRate'] = fr_df['fundingRate'].astype(float)\n",
    "fr_df['fundingTime'] = pd.to_datetime(fr_df['fundingTime'], unit='ms', utc=True)\n",
    "fr_df['markPrice'] = fr_df['markPrice'].astype(float)"
   ]
  },
  {
   "cell_type": "code",
   "execution_count": 143,
   "metadata": {},
   "outputs": [],
   "source": [
    "# Фильтрация данных по времени\n",
    "start_time = pd.Timestamp('2023-12-27T00:00:00Z')\n",
    "end_time = pd.Timestamp('2023-12-28T00:00:00Z')\n",
    "fr_df = fr_df[(fr_df['fundingTime'] >= start_time) & (fr_df['fundingTime'] <= end_time)]"
   ]
  },
  {
   "cell_type": "code",
   "execution_count": 144,
   "metadata": {},
   "outputs": [
    {
     "data": {
      "text/html": [
       "<div>\n",
       "<style scoped>\n",
       "    .dataframe tbody tr th:only-of-type {\n",
       "        vertical-align: middle;\n",
       "    }\n",
       "\n",
       "    .dataframe tbody tr th {\n",
       "        vertical-align: top;\n",
       "    }\n",
       "\n",
       "    .dataframe thead th {\n",
       "        text-align: right;\n",
       "    }\n",
       "</style>\n",
       "<table border=\"1\" class=\"dataframe\">\n",
       "  <thead>\n",
       "    <tr style=\"text-align: right;\">\n",
       "      <th></th>\n",
       "      <th>symbol</th>\n",
       "      <th>fundingRate</th>\n",
       "      <th>markPrice</th>\n",
       "    </tr>\n",
       "    <tr>\n",
       "      <th>fundingTime</th>\n",
       "      <th></th>\n",
       "      <th></th>\n",
       "      <th></th>\n",
       "    </tr>\n",
       "  </thead>\n",
       "  <tbody>\n",
       "    <tr>\n",
       "      <th>2023-12-27 00:00:00+00:00</th>\n",
       "      <td>AUCTIONUSDT</td>\n",
       "      <td>-0.002859</td>\n",
       "      <td>39.260000</td>\n",
       "    </tr>\n",
       "    <tr>\n",
       "      <th>2023-12-27 04:00:00+00:00</th>\n",
       "      <td>AUCTIONUSDT</td>\n",
       "      <td>-0.000852</td>\n",
       "      <td>37.070000</td>\n",
       "    </tr>\n",
       "    <tr>\n",
       "      <th>2023-12-27 08:00:00+00:00</th>\n",
       "      <td>AUCTIONUSDT</td>\n",
       "      <td>-0.000880</td>\n",
       "      <td>37.130000</td>\n",
       "    </tr>\n",
       "    <tr>\n",
       "      <th>2023-12-27 12:00:00.001000+00:00</th>\n",
       "      <td>AUCTIONUSDT</td>\n",
       "      <td>-0.002797</td>\n",
       "      <td>38.220000</td>\n",
       "    </tr>\n",
       "    <tr>\n",
       "      <th>2023-12-27 16:00:00+00:00</th>\n",
       "      <td>AUCTIONUSDT</td>\n",
       "      <td>-0.008223</td>\n",
       "      <td>39.900000</td>\n",
       "    </tr>\n",
       "    <tr>\n",
       "      <th>2023-12-27 20:00:00+00:00</th>\n",
       "      <td>AUCTIONUSDT</td>\n",
       "      <td>-0.008022</td>\n",
       "      <td>39.380000</td>\n",
       "    </tr>\n",
       "    <tr>\n",
       "      <th>2023-12-28 00:00:00+00:00</th>\n",
       "      <td>AUCTIONUSDT</td>\n",
       "      <td>-0.011136</td>\n",
       "      <td>44.366294</td>\n",
       "    </tr>\n",
       "  </tbody>\n",
       "</table>\n",
       "</div>"
      ],
      "text/plain": [
       "                                       symbol  fundingRate  markPrice\n",
       "fundingTime                                                          \n",
       "2023-12-27 00:00:00+00:00         AUCTIONUSDT    -0.002859  39.260000\n",
       "2023-12-27 04:00:00+00:00         AUCTIONUSDT    -0.000852  37.070000\n",
       "2023-12-27 08:00:00+00:00         AUCTIONUSDT    -0.000880  37.130000\n",
       "2023-12-27 12:00:00.001000+00:00  AUCTIONUSDT    -0.002797  38.220000\n",
       "2023-12-27 16:00:00+00:00         AUCTIONUSDT    -0.008223  39.900000\n",
       "2023-12-27 20:00:00+00:00         AUCTIONUSDT    -0.008022  39.380000\n",
       "2023-12-28 00:00:00+00:00         AUCTIONUSDT    -0.011136  44.366294"
      ]
     },
     "execution_count": 144,
     "metadata": {},
     "output_type": "execute_result"
    }
   ],
   "source": [
    "fr_df.set_index('fundingTime', inplace=True)\n",
    "fr_df"
   ]
  },
  {
   "cell_type": "code",
   "execution_count": 145,
   "metadata": {},
   "outputs": [
    {
     "name": "stdout",
     "output_type": "stream",
     "text": [
      "<class 'pandas.core.frame.DataFrame'>\n",
      "DatetimeIndex: 7 entries, 2023-12-27 00:00:00+00:00 to 2023-12-28 00:00:00+00:00\n",
      "Data columns (total 3 columns):\n",
      " #   Column       Non-Null Count  Dtype  \n",
      "---  ------       --------------  -----  \n",
      " 0   symbol       7 non-null      object \n",
      " 1   fundingRate  7 non-null      float64\n",
      " 2   markPrice    7 non-null      float64\n",
      "dtypes: float64(2), object(1)\n",
      "memory usage: 224.0+ bytes\n"
     ]
    }
   ],
   "source": [
    "fr_df.info()"
   ]
  },
  {
   "attachments": {
    "image.png": {
     "image/png": "[encoded data removed]"
    }
   },
   "cell_type": "markdown",
   "metadata": {},
   "source": [
    "# Расчёт номинальной стоимости позиции и дохода\n",
    "![image.png](attachment:image.png)"
   ]
  },
  {
   "cell_type": "code",
   "execution_count": 147,
   "metadata": {},
   "outputs": [
    {
     "name": "stderr",
     "output_type": "stream",
     "text": [
      "C:\\Users\\ekart\\AppData\\Local\\Temp\\ipykernel_9952\\1020493480.py:2: SettingWithCopyWarning:\n",
      "\n",
      "\n",
      "A value is trying to be set on a copy of a slice from a DataFrame.\n",
      "Try using .loc[row_indexer,col_indexer] = value instead\n",
      "\n",
      "See the caveats in the documentation: https://pandas.pydata.org/pandas-docs/stable/user_guide/indexing.html#returning-a-view-versus-a-copy\n",
      "\n"
     ]
    }
   ],
   "source": [
    "# Расчет дохода от ставки финансирования\n",
    "fr_df['доход'] = fr_df['fundingRate'] * quantity * fr_df['markPrice']"
   ]
  },
  {
   "cell_type": "code",
   "execution_count": 148,
   "metadata": {},
   "outputs": [
    {
     "data": {
      "text/html": [
       "<div>\n",
       "<style scoped>\n",
       "    .dataframe tbody tr th:only-of-type {\n",
       "        vertical-align: middle;\n",
       "    }\n",
       "\n",
       "    .dataframe tbody tr th {\n",
       "        vertical-align: top;\n",
       "    }\n",
       "\n",
       "    .dataframe thead th {\n",
       "        text-align: right;\n",
       "    }\n",
       "</style>\n",
       "<table border=\"1\" class=\"dataframe\">\n",
       "  <thead>\n",
       "    <tr style=\"text-align: right;\">\n",
       "      <th></th>\n",
       "      <th>symbol</th>\n",
       "      <th>fundingRate</th>\n",
       "      <th>markPrice</th>\n",
       "      <th>доход</th>\n",
       "    </tr>\n",
       "    <tr>\n",
       "      <th>fundingTime</th>\n",
       "      <th></th>\n",
       "      <th></th>\n",
       "      <th></th>\n",
       "      <th></th>\n",
       "    </tr>\n",
       "  </thead>\n",
       "  <tbody>\n",
       "    <tr>\n",
       "      <th>2023-12-27 00:00:00+00:00</th>\n",
       "      <td>AUCTIONUSDT</td>\n",
       "      <td>-0.002859</td>\n",
       "      <td>39.260000</td>\n",
       "      <td>-112.247481</td>\n",
       "    </tr>\n",
       "    <tr>\n",
       "      <th>2023-12-27 04:00:00+00:00</th>\n",
       "      <td>AUCTIONUSDT</td>\n",
       "      <td>-0.000852</td>\n",
       "      <td>37.070000</td>\n",
       "      <td>-31.574002</td>\n",
       "    </tr>\n",
       "    <tr>\n",
       "      <th>2023-12-27 08:00:00+00:00</th>\n",
       "      <td>AUCTIONUSDT</td>\n",
       "      <td>-0.000880</td>\n",
       "      <td>37.130000</td>\n",
       "      <td>-32.689252</td>\n",
       "    </tr>\n",
       "    <tr>\n",
       "      <th>2023-12-27 12:00:00.001000+00:00</th>\n",
       "      <td>AUCTIONUSDT</td>\n",
       "      <td>-0.002797</td>\n",
       "      <td>38.220000</td>\n",
       "      <td>-106.882994</td>\n",
       "    </tr>\n",
       "    <tr>\n",
       "      <th>2023-12-27 16:00:00+00:00</th>\n",
       "      <td>AUCTIONUSDT</td>\n",
       "      <td>-0.008223</td>\n",
       "      <td>39.900000</td>\n",
       "      <td>-328.117650</td>\n",
       "    </tr>\n",
       "    <tr>\n",
       "      <th>2023-12-27 20:00:00+00:00</th>\n",
       "      <td>AUCTIONUSDT</td>\n",
       "      <td>-0.008022</td>\n",
       "      <td>39.380000</td>\n",
       "      <td>-315.894546</td>\n",
       "    </tr>\n",
       "    <tr>\n",
       "      <th>2023-12-28 00:00:00+00:00</th>\n",
       "      <td>AUCTIONUSDT</td>\n",
       "      <td>-0.011136</td>\n",
       "      <td>44.366294</td>\n",
       "      <td>-494.082127</td>\n",
       "    </tr>\n",
       "  </tbody>\n",
       "</table>\n",
       "</div>"
      ],
      "text/plain": [
       "                                       symbol  fundingRate  markPrice  \\\n",
       "fundingTime                                                             \n",
       "2023-12-27 00:00:00+00:00         AUCTIONUSDT    -0.002859  39.260000   \n",
       "2023-12-27 04:00:00+00:00         AUCTIONUSDT    -0.000852  37.070000   \n",
       "2023-12-27 08:00:00+00:00         AUCTIONUSDT    -0.000880  37.130000   \n",
       "2023-12-27 12:00:00.001000+00:00  AUCTIONUSDT    -0.002797  38.220000   \n",
       "2023-12-27 16:00:00+00:00         AUCTIONUSDT    -0.008223  39.900000   \n",
       "2023-12-27 20:00:00+00:00         AUCTIONUSDT    -0.008022  39.380000   \n",
       "2023-12-28 00:00:00+00:00         AUCTIONUSDT    -0.011136  44.366294   \n",
       "\n",
       "                                       доход  \n",
       "fundingTime                                   \n",
       "2023-12-27 00:00:00+00:00        -112.247481  \n",
       "2023-12-27 04:00:00+00:00         -31.574002  \n",
       "2023-12-27 08:00:00+00:00         -32.689252  \n",
       "2023-12-27 12:00:00.001000+00:00 -106.882994  \n",
       "2023-12-27 16:00:00+00:00        -328.117650  \n",
       "2023-12-27 20:00:00+00:00        -315.894546  \n",
       "2023-12-28 00:00:00+00:00        -494.082127  "
      ]
     },
     "execution_count": 148,
     "metadata": {},
     "output_type": "execute_result"
    }
   ],
   "source": [
    "fr_df"
   ]
  },
  {
   "cell_type": "code",
   "execution_count": 149,
   "metadata": {},
   "outputs": [
    {
     "name": "stderr",
     "output_type": "stream",
     "text": [
      "C:\\Users\\ekart\\AppData\\Local\\Temp\\ipykernel_9952\\1283450845.py:2: SettingWithCopyWarning:\n",
      "\n",
      "\n",
      "A value is trying to be set on a copy of a slice from a DataFrame.\n",
      "Try using .loc[row_indexer,col_indexer] = value instead\n",
      "\n",
      "See the caveats in the documentation: https://pandas.pydata.org/pandas-docs/stable/user_guide/indexing.html#returning-a-view-versus-a-copy\n",
      "\n"
     ]
    }
   ],
   "source": [
    "# Расчет кумулятивного дохода\n",
    "fr_df['кумулятивный_доход'] = fr_df['доход'].cumsum()"
   ]
  },
  {
   "cell_type": "code",
   "execution_count": 150,
   "metadata": {},
   "outputs": [
    {
     "data": {
      "text/html": [
       "<div>\n",
       "<style scoped>\n",
       "    .dataframe tbody tr th:only-of-type {\n",
       "        vertical-align: middle;\n",
       "    }\n",
       "\n",
       "    .dataframe tbody tr th {\n",
       "        vertical-align: top;\n",
       "    }\n",
       "\n",
       "    .dataframe thead th {\n",
       "        text-align: right;\n",
       "    }\n",
       "</style>\n",
       "<table border=\"1\" class=\"dataframe\">\n",
       "  <thead>\n",
       "    <tr style=\"text-align: right;\">\n",
       "      <th></th>\n",
       "      <th>symbol</th>\n",
       "      <th>fundingRate</th>\n",
       "      <th>markPrice</th>\n",
       "      <th>доход</th>\n",
       "      <th>кумулятивный_доход</th>\n",
       "    </tr>\n",
       "    <tr>\n",
       "      <th>fundingTime</th>\n",
       "      <th></th>\n",
       "      <th></th>\n",
       "      <th></th>\n",
       "      <th></th>\n",
       "      <th></th>\n",
       "    </tr>\n",
       "  </thead>\n",
       "  <tbody>\n",
       "    <tr>\n",
       "      <th>2023-12-27 00:00:00+00:00</th>\n",
       "      <td>AUCTIONUSDT</td>\n",
       "      <td>-0.002859</td>\n",
       "      <td>39.260000</td>\n",
       "      <td>-112.247481</td>\n",
       "      <td>-112.247481</td>\n",
       "    </tr>\n",
       "    <tr>\n",
       "      <th>2023-12-27 04:00:00+00:00</th>\n",
       "      <td>AUCTIONUSDT</td>\n",
       "      <td>-0.000852</td>\n",
       "      <td>37.070000</td>\n",
       "      <td>-31.574002</td>\n",
       "      <td>-143.821483</td>\n",
       "    </tr>\n",
       "    <tr>\n",
       "      <th>2023-12-27 08:00:00+00:00</th>\n",
       "      <td>AUCTIONUSDT</td>\n",
       "      <td>-0.000880</td>\n",
       "      <td>37.130000</td>\n",
       "      <td>-32.689252</td>\n",
       "      <td>-176.510735</td>\n",
       "    </tr>\n",
       "    <tr>\n",
       "      <th>2023-12-27 12:00:00.001000+00:00</th>\n",
       "      <td>AUCTIONUSDT</td>\n",
       "      <td>-0.002797</td>\n",
       "      <td>38.220000</td>\n",
       "      <td>-106.882994</td>\n",
       "      <td>-283.393729</td>\n",
       "    </tr>\n",
       "    <tr>\n",
       "      <th>2023-12-27 16:00:00+00:00</th>\n",
       "      <td>AUCTIONUSDT</td>\n",
       "      <td>-0.008223</td>\n",
       "      <td>39.900000</td>\n",
       "      <td>-328.117650</td>\n",
       "      <td>-611.511379</td>\n",
       "    </tr>\n",
       "    <tr>\n",
       "      <th>2023-12-27 20:00:00+00:00</th>\n",
       "      <td>AUCTIONUSDT</td>\n",
       "      <td>-0.008022</td>\n",
       "      <td>39.380000</td>\n",
       "      <td>-315.894546</td>\n",
       "      <td>-927.405925</td>\n",
       "    </tr>\n",
       "    <tr>\n",
       "      <th>2023-12-28 00:00:00+00:00</th>\n",
       "      <td>AUCTIONUSDT</td>\n",
       "      <td>-0.011136</td>\n",
       "      <td>44.366294</td>\n",
       "      <td>-494.082127</td>\n",
       "      <td>-1421.488052</td>\n",
       "    </tr>\n",
       "  </tbody>\n",
       "</table>\n",
       "</div>"
      ],
      "text/plain": [
       "                                       symbol  fundingRate  markPrice  \\\n",
       "fundingTime                                                             \n",
       "2023-12-27 00:00:00+00:00         AUCTIONUSDT    -0.002859  39.260000   \n",
       "2023-12-27 04:00:00+00:00         AUCTIONUSDT    -0.000852  37.070000   \n",
       "2023-12-27 08:00:00+00:00         AUCTIONUSDT    -0.000880  37.130000   \n",
       "2023-12-27 12:00:00.001000+00:00  AUCTIONUSDT    -0.002797  38.220000   \n",
       "2023-12-27 16:00:00+00:00         AUCTIONUSDT    -0.008223  39.900000   \n",
       "2023-12-27 20:00:00+00:00         AUCTIONUSDT    -0.008022  39.380000   \n",
       "2023-12-28 00:00:00+00:00         AUCTIONUSDT    -0.011136  44.366294   \n",
       "\n",
       "                                       доход  кумулятивный_доход  \n",
       "fundingTime                                                       \n",
       "2023-12-27 00:00:00+00:00        -112.247481         -112.247481  \n",
       "2023-12-27 04:00:00+00:00         -31.574002         -143.821483  \n",
       "2023-12-27 08:00:00+00:00         -32.689252         -176.510735  \n",
       "2023-12-27 12:00:00.001000+00:00 -106.882994         -283.393729  \n",
       "2023-12-27 16:00:00+00:00        -328.117650         -611.511379  \n",
       "2023-12-27 20:00:00+00:00        -315.894546         -927.405925  \n",
       "2023-12-28 00:00:00+00:00        -494.082127        -1421.488052  "
      ]
     },
     "execution_count": 150,
     "metadata": {},
     "output_type": "execute_result"
    }
   ],
   "source": [
    "fr_df"
   ]
  },
  {
   "cell_type": "markdown",
   "metadata": {},
   "source": [
    "# Визуализация"
   ]
  },
  {
   "cell_type": "code",
   "execution_count": 151,
   "metadata": {},
   "outputs": [
    {
     "data": {
      "image/png": "[encoded data removed]",
      "text/plain": [
       "<Figure size 1200x600 with 1 Axes>"
      ]
     },
     "metadata": {},
     "output_type": "display_data"
    }
   ],
   "source": [
    "# Визуализация кумулятивного дохода\n",
    "plt.figure(figsize=(12, 6))\n",
    "sns.lineplot(data=fr_df, x=fr_df.index, y='кумулятивный_доход', marker='o', label='Кумулятивный доход от ставки финансирования')\n",
    "plt.scatter(fr_df.index, fr_df['доход'], color='red')  # Добавляем точки дохода\n",
    "for i, value in enumerate(fr_df['доход']):\n",
    "    plt.text(fr_df.index[i], value, f\"{value:.2f}\", fontsize=8)  # Отображаем значения дохода на графике\n",
    "plt.xlabel('Время')\n",
    "plt.ylabel('Доход (USDT)')\n",
    "plt.title('Кумулятивный доход от ставки финансирования')\n",
    "plt.xticks(rotation=45)\n",
    "plt.tight_layout()\n",
    "plt.show()"
   ]
  },
  {
   "cell_type": "code",
   "execution_count": 152,
   "metadata": {},
   "outputs": [
    {
     "data": {
      "image/png": "[encoded data removed]",
      "text/plain": [
       "<Figure size 1200x600 with 1 Axes>"
      ]
     },
     "metadata": {},
     "output_type": "display_data"
    }
   ],
   "source": [
    "import matplotlib.ticker as mticker\n",
    "\n",
    "# Устанавливаем стиль графика\n",
    "plt.style.use('seaborn-v0_8')\n",
    "\n",
    "# Создаем объект графика и осей\n",
    "fig, ax = plt.subplots(figsize=(12, 6))\n",
    "\n",
    "# Рисуем линию кумулятивного дохода\n",
    "ax.plot(fr_df.index, fr_df['кумулятивный_доход'], marker='o', color='blue', label='Кумулятивный доход от ставки финансирования')\n",
    "\n",
    "# Добавляем точки дохода и аннотируем их\n",
    "ax.scatter(fr_df.index, fr_df['доход'], color='red')  # Добавляем точки дохода\n",
    "for i, value in enumerate(fr_df['доход']):\n",
    "    ax.text(fr_df.index[i], value, f\"{value:.2f}\", fontsize=8, verticalalignment='bottom')  # Отображаем значения дохода\n",
    "\n",
    "# Устанавливаем заголовки и метки осей\n",
    "ax.set_title('Кумулятивный доход от ставки финансирования', fontsize=14, fontweight='bold')\n",
    "ax.set_xlabel('Время', fontsize=12)\n",
    "ax.set_ylabel('Доход (USDT)', fontsize=12)\n",
    "\n",
    "# Добавляем сетку\n",
    "ax.grid(True)\n",
    "\n",
    "# Форматируем метки осей\n",
    "ax.xaxis.set_major_formatter(mticker.FuncFormatter(lambda x, pos: pd.to_datetime(x).strftime('%Y-%m-%d %H:%M')))\n",
    "ax.yaxis.set_major_formatter(mticker.StrMethodFormatter('{x:,.0f}'))\n",
    "\n",
    "# Устанавливаем поворот меток на оси X для лучшей читаемости\n",
    "plt.setp(ax.get_xticklabels(), rotation=45, ha='right')\n",
    "\n",
    "# Устанавливаем параметры легенды\n",
    "ax.legend()\n",
    "\n",
    "# Отображаем график\n",
    "plt.tight_layout()\n",
    "plt.show()\n"
   ]
  },
  {
   "cell_type": "code",
   "execution_count": 153,
   "metadata": {},
   "outputs": [
    {
     "name": "stdout",
     "output_type": "stream",
     "text": [
      "['Solarize_Light2', '_classic_test_patch', '_mpl-gallery', '_mpl-gallery-nogrid', 'bmh', 'classic', 'dark_background', 'fast', 'fivethirtyeight', 'ggplot', 'grayscale', 'seaborn-v0_8', 'seaborn-v0_8-bright', 'seaborn-v0_8-colorblind', 'seaborn-v0_8-dark', 'seaborn-v0_8-dark-palette', 'seaborn-v0_8-darkgrid', 'seaborn-v0_8-deep', 'seaborn-v0_8-muted', 'seaborn-v0_8-notebook', 'seaborn-v0_8-paper', 'seaborn-v0_8-pastel', 'seaborn-v0_8-poster', 'seaborn-v0_8-talk', 'seaborn-v0_8-ticks', 'seaborn-v0_8-white', 'seaborn-v0_8-whitegrid', 'tableau-colorblind10']\n"
     ]
    }
   ],
   "source": [
    "print(plt.style.available)"
   ]
  },
  {
   "cell_type": "code",
   "execution_count": 154,
   "metadata": {},
   "outputs": [
    {
     "data": {
      "application/vnd.plotly.v1+json": {
       "config": {
        "linkText": "Export to plot.ly",
        "plotlyServerURL": "https://plot.ly",
        "showLink": false
       },
       "data": [
        {
         "line": {
          "width": 2
         },
         "marker": {
          "color": "blue"
         },
         "mode": "lines+markers",
         "name": "Кумулятивный доход",
         "type": "scatter",
         "x": [
          "2023-12-27T00:00:00+00:00",
          "2023-12-27T04:00:00+00:00",
          "2023-12-27T08:00:00+00:00",
          "2023-12-27T12:00:00.001000+00:00",
          "2023-12-27T16:00:00+00:00",
          "2023-12-27T20:00:00+00:00",
          "2023-12-28T00:00:00+00:00"
         ],
         "y": [
          -112.24748079999999,
          -143.8214826,
          -176.5107346,
          -283.393729,
          -611.511379,
          -927.405925,
          -1421.48805171087
         ]
        },
        {
         "marker": {
          "color": "red",
          "size": 8
         },
         "mode": "markers",
         "name": "Доход за период",
         "text": [
          "-112.25",
          "-31.57",
          "-32.69",
          "-106.88",
          "-328.12",
          "-315.89",
          "-494.08"
         ],
         "textposition": "top center",
         "type": "scatter",
         "x": [
          "2023-12-27T00:00:00+00:00",
          "2023-12-27T04:00:00+00:00",
          "2023-12-27T08:00:00+00:00",
          "2023-12-27T12:00:00.001000+00:00",
          "2023-12-27T16:00:00+00:00",
          "2023-12-27T20:00:00+00:00",
          "2023-12-28T00:00:00+00:00"
         ],
         "y": [
          112.24748079999999,
          31.5740018,
          32.689252,
          106.88299439999999,
          328.11764999999997,
          315.894546,
          494.08212671086983
         ]
        }
       ],
       "layout": {
        "showlegend": true,
        "template": {
         "data": {
          "bar": [
           {
            "error_x": {
             "color": "#2a3f5f"
            },
            "error_y": {
             "color": "#2a3f5f"
            },
            "marker": {
             "line": {
              "color": "#E5ECF6",
              "width": 0.5
             },
             "pattern": {
              "fillmode": "overlay",
              "size": 10,
              "solidity": 0.2
             }
            },
            "type": "bar"
           }
          ],
          "barpolar": [
           {
            "marker": {
             "line": {
              "color": "#E5ECF6",
              "width": 0.5
             },
             "pattern": {
              "fillmode": "overlay",
              "size": 10,
              "solidity": 0.2
             }
            },
            "type": "barpolar"
           }
          ],
          "carpet": [
           {
            "aaxis": {
             "endlinecolor": "#2a3f5f",
             "gridcolor": "white",
             "linecolor": "white",
             "minorgridcolor": "white",
             "startlinecolor": "#2a3f5f"
            },
            "baxis": {
             "endlinecolor": "#2a3f5f",
             "gridcolor": "white",
             "linecolor": "white",
             "minorgridcolor": "white",
             "startlinecolor": "#2a3f5f"
            },
            "type": "carpet"
           }
          ],
          "choropleth": [
           {
            "colorbar": {
             "outlinewidth": 0,
             "ticks": ""
            },
            "type": "choropleth"
           }
          ],
          "contour": [
           {
            "colorbar": {
             "outlinewidth": 0,
             "ticks": ""
            },
            "colorscale": [
             [
              0,
              "#0d0887"
             ],
             [
              0.1111111111111111,
              "#46039f"
             ],
             [
              0.2222222222222222,
              "#7201a8"
             ],
             [
              0.3333333333333333,
              "#9c179e"
             ],
             [
              0.4444444444444444,
              "#bd3786"
             ],
             [
              0.5555555555555556,
              "#d8576b"
             ],
             [
              0.6666666666666666,
              "#ed7953"
             ],
             [
              0.7777777777777778,
              "#fb9f3a"
             ],
             [
              0.8888888888888888,
              "#fdca26"
             ],
             [
              1,
              "#f0f921"
             ]
            ],
            "type": "contour"
           }
          ],
          "contourcarpet": [
           {
            "colorbar": {
             "outlinewidth": 0,
             "ticks": ""
            },
            "type": "contourcarpet"
           }
          ],
          "heatmap": [
           {
            "colorbar": {
             "outlinewidth": 0,
             "ticks": ""
            },
            "colorscale": [
             [
              0,
              "#0d0887"
             ],
             [
              0.1111111111111111,
              "#46039f"
             ],
             [
              0.2222222222222222,
              "#7201a8"
             ],
             [
              0.3333333333333333,
              "#9c179e"
             ],
             [
              0.4444444444444444,
              "#bd3786"
             ],
             [
              0.5555555555555556,
              "#d8576b"
             ],
             [
              0.6666666666666666,
              "#ed7953"
             ],
             [
              0.7777777777777778,
              "#fb9f3a"
             ],
             [
              0.8888888888888888,
              "#fdca26"
             ],
             [
              1,
              "#f0f921"
             ]
            ],
            "type": "heatmap"
           }
          ],
          "heatmapgl": [
           {
            "colorbar": {
             "outlinewidth": 0,
             "ticks": ""
            },
            "colorscale": [
             [
              0,
              "#0d0887"
             ],
             [
              0.1111111111111111,
              "#46039f"
             ],
             [
              0.2222222222222222,
              "#7201a8"
             ],
             [
              0.3333333333333333,
              "#9c179e"
             ],
             [
              0.4444444444444444,
              "#bd3786"
             ],
             [
              0.5555555555555556,
              "#d8576b"
             ],
             [
              0.6666666666666666,
              "#ed7953"
             ],
             [
              0.7777777777777778,
              "#fb9f3a"
             ],
             [
              0.8888888888888888,
              "#fdca26"
             ],
             [
              1,
              "#f0f921"
             ]
            ],
            "type": "heatmapgl"
           }
          ],
          "histogram": [
           {
            "marker": {
             "pattern": {
              "fillmode": "overlay",
              "size": 10,
              "solidity": 0.2
             }
            },
            "type": "histogram"
           }
          ],
          "histogram2d": [
           {
            "colorbar": {
             "outlinewidth": 0,
             "ticks": ""
            },
            "colorscale": [
             [
              0,
              "#0d0887"
             ],
             [
              0.1111111111111111,
              "#46039f"
             ],
             [
              0.2222222222222222,
              "#7201a8"
             ],
             [
              0.3333333333333333,
              "#9c179e"
             ],
             [
              0.4444444444444444,
              "#bd3786"
             ],
             [
              0.5555555555555556,
              "#d8576b"
             ],
             [
              0.6666666666666666,
              "#ed7953"
             ],
             [
              0.7777777777777778,
              "#fb9f3a"
             ],
             [
              0.8888888888888888,
              "#fdca26"
             ],
             [
              1,
              "#f0f921"
             ]
            ],
            "type": "histogram2d"
           }
          ],
          "histogram2dcontour": [
           {
            "colorbar": {
             "outlinewidth": 0,
             "ticks": ""
            },
            "colorscale": [
             [
              0,
              "#0d0887"
             ],
             [
              0.1111111111111111,
              "#46039f"
             ],
             [
              0.2222222222222222,
              "#7201a8"
             ],
             [
              0.3333333333333333,
              "#9c179e"
             ],
             [
              0.4444444444444444,
              "#bd3786"
             ],
             [
              0.5555555555555556,
              "#d8576b"
             ],
             [
              0.6666666666666666,
              "#ed7953"
             ],
             [
              0.7777777777777778,
              "#fb9f3a"
             ],
             [
              0.8888888888888888,
              "#fdca26"
             ],
             [
              1,
              "#f0f921"
             ]
            ],
            "type": "histogram2dcontour"
           }
          ],
          "mesh3d": [
           {
            "colorbar": {
             "outlinewidth": 0,
             "ticks": ""
            },
            "type": "mesh3d"
           }
          ],
          "parcoords": [
           {
            "line": {
             "colorbar": {
              "outlinewidth": 0,
              "ticks": ""
             }
            },
            "type": "parcoords"
           }
          ],
          "pie": [
           {
            "automargin": true,
            "type": "pie"
           }
          ],
          "scatter": [
           {
            "fillpattern": {
             "fillmode": "overlay",
             "size": 10,
             "solidity": 0.2
            },
            "type": "scatter"
           }
          ],
          "scatter3d": [
           {
            "line": {
             "colorbar": {
              "outlinewidth": 0,
              "ticks": ""
             }
            },
            "marker": {
             "colorbar": {
              "outlinewidth": 0,
              "ticks": ""
             }
            },
            "type": "scatter3d"
           }
          ],
          "scattercarpet": [
           {
            "marker": {
             "colorbar": {
              "outlinewidth": 0,
              "ticks": ""
             }
            },
            "type": "scattercarpet"
           }
          ],
          "scattergeo": [
           {
            "marker": {
             "colorbar": {
              "outlinewidth": 0,
              "ticks": ""
             }
            },
            "type": "scattergeo"
           }
          ],
          "scattergl": [
           {
            "marker": {
             "colorbar": {
              "outlinewidth": 0,
              "ticks": ""
             }
            },
            "type": "scattergl"
           }
          ],
          "scattermapbox": [
           {
            "marker": {
             "colorbar": {
              "outlinewidth": 0,
              "ticks": ""
             }
            },
            "type": "scattermapbox"
           }
          ],
          "scatterpolar": [
           {
            "marker": {
             "colorbar": {
              "outlinewidth": 0,
              "ticks": ""
             }
            },
            "type": "scatterpolar"
           }
          ],
          "scatterpolargl": [
           {
            "marker": {
             "colorbar": {
              "outlinewidth": 0,
              "ticks": ""
             }
            },
            "type": "scatterpolargl"
           }
          ],
          "scatterternary": [
           {
            "marker": {
             "colorbar": {
              "outlinewidth": 0,
              "ticks": ""
             }
            },
            "type": "scatterternary"
           }
          ],
          "surface": [
           {
            "colorbar": {
             "outlinewidth": 0,
             "ticks": ""
            },
            "colorscale": [
             [
              0,
              "#0d0887"
             ],
             [
              0.1111111111111111,
              "#46039f"
             ],
             [
              0.2222222222222222,
              "#7201a8"
             ],
             [
              0.3333333333333333,
              "#9c179e"
             ],
             [
              0.4444444444444444,
              "#bd3786"
             ],
             [
              0.5555555555555556,
              "#d8576b"
             ],
             [
              0.6666666666666666,
              "#ed7953"
             ],
             [
              0.7777777777777778,
              "#fb9f3a"
             ],
             [
              0.8888888888888888,
              "#fdca26"
             ],
             [
              1,
              "#f0f921"
             ]
            ],
            "type": "surface"
           }
          ],
          "table": [
           {
            "cells": {
             "fill": {
              "color": "#EBF0F8"
             },
             "line": {
              "color": "white"
             }
            },
            "header": {
             "fill": {
              "color": "#C8D4E3"
             },
             "line": {
              "color": "white"
             }
            },
            "type": "table"
           }
          ]
         },
         "layout": {
          "annotationdefaults": {
           "arrowcolor": "#2a3f5f",
           "arrowhead": 0,
           "arrowwidth": 1
          },
          "autotypenumbers": "strict",
          "coloraxis": {
           "colorbar": {
            "outlinewidth": 0,
            "ticks": ""
           }
          },
          "colorscale": {
           "diverging": [
            [
             0,
             "#8e0152"
            ],
            [
             0.1,
             "#c51b7d"
            ],
            [
             0.2,
             "#de77ae"
            ],
            [
             0.3,
             "#f1b6da"
            ],
            [
             0.4,
             "#fde0ef"
            ],
            [
             0.5,
             "#f7f7f7"
            ],
            [
             0.6,
             "#e6f5d0"
            ],
            [
             0.7,
             "#b8e186"
            ],
            [
             0.8,
             "#7fbc41"
            ],
            [
             0.9,
             "#4d9221"
            ],
            [
             1,
             "#276419"
            ]
           ],
           "sequential": [
            [
             0,
             "#0d0887"
            ],
            [
             0.1111111111111111,
             "#46039f"
            ],
            [
             0.2222222222222222,
             "#7201a8"
            ],
            [
             0.3333333333333333,
             "#9c179e"
            ],
            [
             0.4444444444444444,
             "#bd3786"
            ],
            [
             0.5555555555555556,
             "#d8576b"
            ],
            [
             0.6666666666666666,
             "#ed7953"
            ],
            [
             0.7777777777777778,
             "#fb9f3a"
            ],
            [
             0.8888888888888888,
             "#fdca26"
            ],
            [
             1,
             "#f0f921"
            ]
           ],
           "sequentialminus": [
            [
             0,
             "#0d0887"
            ],
            [
             0.1111111111111111,
             "#46039f"
            ],
            [
             0.2222222222222222,
             "#7201a8"
            ],
            [
             0.3333333333333333,
             "#9c179e"
            ],
            [
             0.4444444444444444,
             "#bd3786"
            ],
            [
             0.5555555555555556,
             "#d8576b"
            ],
            [
             0.6666666666666666,
             "#ed7953"
            ],
            [
             0.7777777777777778,
             "#fb9f3a"
            ],
            [
             0.8888888888888888,
             "#fdca26"
            ],
            [
             1,
             "#f0f921"
            ]
           ]
          },
          "colorway": [
           "#636efa",
           "#EF553B",
           "#00cc96",
           "#ab63fa",
           "#FFA15A",
           "#19d3f3",
           "#FF6692",
           "#B6E880",
           "#FF97FF",
           "#FECB52"
          ],
          "font": {
           "color": "#2a3f5f"
          },
          "geo": {
           "bgcolor": "white",
           "lakecolor": "white",
           "landcolor": "#E5ECF6",
           "showlakes": true,
           "showland": true,
           "subunitcolor": "white"
          },
          "hoverlabel": {
           "align": "left"
          },
          "hovermode": "closest",
          "mapbox": {
           "style": "light"
          },
          "paper_bgcolor": "white",
          "plot_bgcolor": "#E5ECF6",
          "polar": {
           "angularaxis": {
            "gridcolor": "white",
            "linecolor": "white",
            "ticks": ""
           },
           "bgcolor": "#E5ECF6",
           "radialaxis": {
            "gridcolor": "white",
            "linecolor": "white",
            "ticks": ""
           }
          },
          "scene": {
           "xaxis": {
            "backgroundcolor": "#E5ECF6",
            "gridcolor": "white",
            "gridwidth": 2,
            "linecolor": "white",
            "showbackground": true,
            "ticks": "",
            "zerolinecolor": "white"
           },
           "yaxis": {
            "backgroundcolor": "#E5ECF6",
            "gridcolor": "white",
            "gridwidth": 2,
            "linecolor": "white",
            "showbackground": true,
            "ticks": "",
            "zerolinecolor": "white"
           },
           "zaxis": {
            "backgroundcolor": "#E5ECF6",
            "gridcolor": "white",
            "gridwidth": 2,
            "linecolor": "white",
            "showbackground": true,
            "ticks": "",
            "zerolinecolor": "white"
           }
          },
          "shapedefaults": {
           "line": {
            "color": "#2a3f5f"
           }
          },
          "ternary": {
           "aaxis": {
            "gridcolor": "white",
            "linecolor": "white",
            "ticks": ""
           },
           "baxis": {
            "gridcolor": "white",
            "linecolor": "white",
            "ticks": ""
           },
           "bgcolor": "#E5ECF6",
           "caxis": {
            "gridcolor": "white",
            "linecolor": "white",
            "ticks": ""
           }
          },
          "title": {
           "x": 0.05
          },
          "xaxis": {
           "automargin": true,
           "gridcolor": "white",
           "linecolor": "white",
           "ticks": "",
           "title": {
            "standoff": 15
           },
           "zerolinecolor": "white",
           "zerolinewidth": 2
          },
          "yaxis": {
           "automargin": true,
           "gridcolor": "white",
           "linecolor": "white",
           "ticks": "",
           "title": {
            "standoff": 15
           },
           "zerolinecolor": "white",
           "zerolinewidth": 2
          }
         }
        },
        "title": {
         "text": "Кумулятивный доход от ставки финансирования"
        },
        "xaxis": {
         "tickangle": 45,
         "tickformat": "%Y-%m-%d %H:%M",
         "title": {
          "text": "Время"
         }
        },
        "yaxis": {
         "title": {
          "text": "Доход (USDT)"
         }
        }
       }
      }
     },
     "metadata": {},
     "output_type": "display_data"
    }
   ],
   "source": [
    "import plotly.graph_objs as go\n",
    "from plotly.offline import iplot\n",
    "\n",
    "# Создаем объекты для линий графика\n",
    "trace1 = go.Scatter(\n",
    "    x=fr_df.index, \n",
    "    y=fr_df['кумулятивный_доход'], \n",
    "    mode='lines+markers',\n",
    "    name='Кумулятивный доход',\n",
    "    marker=dict(color='blue'),\n",
    "    line=dict(width=2)\n",
    ")\n",
    "\n",
    "trace2 = go.Scatter(\n",
    "    x=fr_df.index, \n",
    "    y=fr_df['доход'] * (-1), \n",
    "    mode='markers',\n",
    "    name='Доход за период',\n",
    "    marker=dict(color='red', size=8)\n",
    ")\n",
    "\n",
    "# Добавляем текст к точкам на графике, если доход не равен нулю\n",
    "text = [str(round(value, 2)) if value != 0 else '' for value in fr_df['доход']]\n",
    "\n",
    "trace2.update(text=text)\n",
    "trace2.update(textposition='top center')\n",
    "\n",
    "# Определяем макет графика\n",
    "layout = go.Layout(\n",
    "    title='Кумулятивный доход от ставки финансирования',\n",
    "    xaxis=dict(\n",
    "        title='Время',\n",
    "        tickformat='%Y-%m-%d %H:%M',\n",
    "        tickangle=45\n",
    "    ),\n",
    "    yaxis=dict(\n",
    "        title='Доход (USDT)'\n",
    "    ),\n",
    "    showlegend=True\n",
    ")\n",
    "\n",
    "# Создаем фигуру с данными и макетом\n",
    "fig = go.Figure(data=[trace1, trace2], layout=layout)\n",
    "\n",
    "# Отображаем график\n",
    "iplot(fig)\n"
   ]
  }
 ],
 "metadata": {
  "kernelspec": {
   "display_name": "Python 3",
   "language": "python",
   "name": "python3"
  },
  "language_info": {
   "codemirror_mode": {
    "name": "ipython",
    "version": 3
   },
   "file_extension": ".py",
   "mimetype": "text/x-python",
   "name": "python",
   "nbconvert_exporter": "python",
   "pygments_lexer": "ipython3",
   "version": "3.11.5"
  }
 },
 "nbformat": 4,
 "nbformat_minor": 2
}
